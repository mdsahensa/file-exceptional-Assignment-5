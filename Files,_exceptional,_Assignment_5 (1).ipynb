{
  "nbformat": 4,
  "nbformat_minor": 0,
  "metadata": {
    "colab": {
      "provenance": []
    },
    "kernelspec": {
      "name": "python3",
      "display_name": "Python 3"
    },
    "language_info": {
      "name": "python"
    }
  },
  "cells": [
    {
      "cell_type": "markdown",
      "source": [
        "#THEORY QUESTION"
      ],
      "metadata": {
        "id": "6lO7VQnik6v0"
      }
    },
    {
      "cell_type": "code",
      "source": [],
      "metadata": {
        "id": "ybB6AXjC9fFv"
      },
      "execution_count": null,
      "outputs": []
    },
    {
      "cell_type": "markdown",
      "source": [
        "1.**What is the difference between interpreted and compiled languages.**\n",
        "#Interpreted Languages:\n",
        "-Code is executed line by line by an interpreter.\n",
        "\n",
        "-No separate compilation step; the program runs directly from the source code.\n",
        "\n",
        "-Slower execution compared to compiled languages because of real-time translation.\n",
        "\n",
        "-Examples: Python, JavaScript, Ruby, PHP.\n",
        "#Compiled Languages:\n",
        "-Code is translated entirely into machine code by a compiler before execution.\n",
        "\n",
        "-The compiled file (binary/executable) runs directly on the system.\n",
        "\n",
        "-Faster execution since translation happens before runtime."
      ],
      "metadata": {
        "id": "SGo8Us1fk6s9"
      }
    },
    {
      "cell_type": "markdown",
      "source": [
        "2.**What is exception handling in Python.**\n",
        "- Exception handling in Python is a way to manage runtime errors (exceptions) that occur during program execution. Instead of letting the program crash, you can handle these errors gracefully using try, except, finally, and else.\n"
      ],
      "metadata": {
        "id": "HCfEeOmVk6qV"
      }
    },
    {
      "cell_type": "markdown",
      "source": [
        "3.**What is the purpose of the finally block in exception handling.**\n",
        "- The finally block in Python is used to execute code regardless of whether an exception occurs or not. It is commonly used for cleanup actions like closing files, releasing resources, or disconnecting from a database.\n",
        "\n",
        "\n",
        "\n"
      ],
      "metadata": {
        "id": "BnCjCppck6nc"
      }
    },
    {
      "cell_type": "markdown",
      "source": [
        "4.**What is logging in Python.**\n",
        "- Logging in Python is a way to record events and messages that occur during a program’s execution. It helps in debugging, monitoring, and tracking issues efficiently.\n",
        "\n",
        "\n",
        "\n"
      ],
      "metadata": {
        "id": "iOC_5WcDk6ks"
      }
    },
    {
      "cell_type": "markdown",
      "source": [
        "5.**What is the significance of the __del__ method in Python.**\n",
        "- The __del__ method in Python is a destructor that is called when an object is about to be destroyed. It allows you to release resources, close files, or perform cleanup tasks before an object is removed from memory.\n",
        "\n",
        "\n"
      ],
      "metadata": {
        "id": "MSbzJj3jk6ht"
      }
    },
    {
      "cell_type": "markdown",
      "source": [
        "6.**What is the difference between import and from ... import in Python**\n",
        "-  1.Using import\n",
        ">This imports the entire module, and you must use the module name to access its functions or variables.\n",
        "\n",
        "-  2.Using from ... import\n",
        ">This imports specific functions or variables from a module, allowing you to use them directly without the module name\n"
      ],
      "metadata": {
        "id": "JhMcqYaWk6e1"
      }
    },
    {
      "cell_type": "markdown",
      "source": [
        "7.**How can you handle multiple exceptions in Python.**\n",
        "- In Python, you can handle multiple exceptions using multiple except blocks or a single except block with a tuple of exceptions.\n"
      ],
      "metadata": {
        "id": "XtJAIB3-k6b1"
      }
    },
    {
      "cell_type": "markdown",
      "source": [
        "8.**What is the purpose of the with statement when handling files in Python.**\n",
        "- The with statement in Python is used for resource management, especially when handling files. It ensures that the file is properly closed after its operations, even if an exception occurs.\n",
        "\n"
      ],
      "metadata": {
        "id": "v6ElPQTKk6ZF"
      }
    },
    {
      "cell_type": "markdown",
      "source": [
        "9.**What is the difference between multithreading and multiprocessing.**\n",
        "- 1. Multithreading\n",
        ">- Definition: Uses multiple threads within a single process to perform tasks concurrently.\n",
        ">- Best for: I/O-bound tasks (e.g., file operations, network requests).\n",
        ">- Threads share memory and run in the same process.\n",
        "\n",
        "2. Multiprocessing\n",
        ">- Definition: Uses multiple separate processes that run in parallel.\n",
        ">- Best for: CPU-bound tasks (e.g., calculations, image processing).\n",
        ">- Each process runs in its own memory space, avoiding GIL limitations.\n"
      ],
      "metadata": {
        "id": "t-AC2LyRk6WV"
      }
    },
    {
      "cell_type": "markdown",
      "source": [
        "10.**What are the advantages of using logging in a program.**\n",
        "- Advantages of Using Logging in a Program\n",
        ">-Helps in Debugging and Troubleshooting.\n",
        "\n",
        " >-Provides Different Logging Levels\n",
        "\n",
        "  >-Logs Can Be Saved to Files for Future Analysis\n",
        "\n",
        "  >-Helps in Performance Monitoring\n"
      ],
      "metadata": {
        "id": "S8xAW-Thk6Tl"
      }
    },
    {
      "cell_type": "markdown",
      "source": [
        "11.**What is memory management in Python.**\n",
        "\n",
        "-> Python’s Private Heap Space – All objects are stored in a private heap, managed by Python internally.\n",
        "\n",
        "->Memory Allocation Mechanisms:\n",
        "\n",
        "- Static Allocation – For built-in objects (int, str).\n",
        "- Dynamic Allocation – For runtime objects (list, dict).\n",
        "\n",
        "->Python Memory Manager – Manages memory allocation automatically.\n",
        "\n",
        "->Garbage Collection (GC) – Python automatically frees unused memory using:\n",
        "\n",
        "- Reference Counting – Deletes objects when no references exist.\n",
        "\n",
        "- Cyclic Garbage Collection – Removes objects with circular references."
      ],
      "metadata": {
        "id": "c26swu68k6Qs"
      }
    },
    {
      "cell_type": "markdown",
      "source": [
        "12.**What are the basic steps involved in exception handling in Python.**\n",
        " 1. Use try Block – Place risky code inside try.\n",
        " 2. Use except Block – Catch and handle exceptions.\n",
        " 3. Multiple except Blocks – Handle different errors separately.\n",
        " 4. Use else Block – Runs if no exception occurs.\n",
        " 5. Use finally Block – Executes cleanup code (e.g., closing files).\n"
      ],
      "metadata": {
        "id": "PdUPHbn2k6MO"
      }
    },
    {
      "cell_type": "markdown",
      "source": [
        "13.**Why is memory management important in Python.**\n",
        " 1. Prevents Memory Leaks – Efficient memory handling ensures unused objects are removed, avoiding excessive memory consumption.\n",
        "\n",
        " 2. Optimizes Performance – Reduces unnecessary memory usage, improving program execution speed.\n",
        "\n",
        " 3. Manages Automatic Garbage Collection – Python’s garbage collector reclaims unused memory, reducing manual intervention.\n",
        "\n",
        " 4. Supports Large-Scale Applications – Helps manage memory efficiently in data-heavy applications like AI, ML, and web services.\n"
      ],
      "metadata": {
        "id": "WBs41bZSk6Js"
      }
    },
    {
      "cell_type": "markdown",
      "source": [
        "14.**What is the role of try and except in exception handling.**\n",
        "- try Block – Contains code that may cause an exception.\n",
        "- except Block – Catches and handles specific or general exceptions.\n",
        "- Prevents Program Crash – Allows graceful error handling instead of abrupt termination.\n",
        "- Handles Multiple Errors – Can use multiple except blocks for different exceptions.\n",
        "- Improves Debugging – Helps identify and manage errors efficiently.\n"
      ],
      "metadata": {
        "id": "XYZEoGMAk6HN"
      }
    },
    {
      "cell_type": "markdown",
      "source": [
        "15.**How does Python's garbage collection system work.**\n",
        "1. Reference Counting – Python tracks object references; when the count reaches zero, the object is deleted.\n",
        "\n",
        "2. Cyclic Garbage Collection – Detects and removes objects in circular references that reference each other.\n",
        "4. Generational Garbage Collection – Python divides objects into three generations (young, middle-aged, old) and collects garbage more frequently in younger generations.\n"
      ],
      "metadata": {
        "id": "TznMADxQk6CF"
      }
    },
    {
      "cell_type": "markdown",
      "source": [
        "16.**What is the purpose of the else block in exception handling.**\n",
        "1. Executes When No Exception Occurs – Runs only if the try block completes successfully.\n",
        "2. Separates Normal Execution from Error Handling – Keeps the except block focused on errors.\n",
        "3. Improves Code Readability – Clearly distinguishes error-handling logic from normal execution.\n"
      ],
      "metadata": {
        "id": "HyLlLKuBvzf4"
      }
    },
    {
      "cell_type": "markdown",
      "source": [
        "17.**What are the common logging levels in Python.**\n",
        "1. DEBUG (10) – Detailed information, mainly for debugging.\n",
        "2. INFO (20) – General messages confirming normal operation.\n",
        "3. WARNING (30) – Indicates potential issues but doesn’t stop execution.\n",
        "4. ERROR (40) – Reports serious problems that prevent execution of a function.\n",
        "5. CRITICAL (50) – Severe errors that may crash the program.\n"
      ],
      "metadata": {
        "id": "WBHTSNuLvz-w"
      }
    },
    {
      "cell_type": "markdown",
      "source": [
        "18.**What is the difference between os.fork() and multiprocessing in Python**\n",
        " 1. Platform Support\n",
        "\n",
        ">-os.fork() → Works only on Unix/Linux.\n",
        "\n",
        ">-multiprocessing → Works on all platforms (Windows, Linux, Mac).\n",
        "\n",
        " 2. Memory Sharing\n",
        "\n",
        ">-os.fork() → Child process shares memory with the parent.\n",
        "\n",
        ">-multiprocessing → Each process has its own memory space (no shared memory).\n",
        "\n",
        " 3. Concept\n",
        "\n",
        ">-os.fork() → Creates a child process by duplicating the parent.\n",
        "\n",
        ">-multiprocessing → Uses Python’s built-in API to create new processes.\n",
        "\n",
        " 4. Safety & Stability\n",
        "\n",
        ">-os.fork() → Can cause issues with shared memory.\n",
        "\n",
        ">-multiprocessing → Safer as processes are independent.\n",
        "\n",
        " 5. Usage\n",
        "\n",
        ">-os.fork() → Best for low-level process management (Unix only).\n",
        "\n",
        ">-multiprocessing → Recommended for cross-platform parallel execution.\n",
        "\n"
      ],
      "metadata": {
        "id": "TlSQEn5qv0e4"
      }
    },
    {
      "cell_type": "markdown",
      "source": [
        "19.**What is the importance of closing a file in Python**\n",
        "1. Frees System Resources – Prevents memory leaks by releasing file handles.\n",
        "2. Ensures Data is Written – Flushes buffered data, ensuring all writes are saved.\n",
        "3. Prevents File Corruption – Avoids issues with incomplete writes or concurrent access.\n",
        "4. Improves Performance – Reduces resource consumption, keeping the system efficient.\n"
      ],
      "metadata": {
        "id": "e9J1S1-p0ZHz"
      }
    },
    {
      "cell_type": "markdown",
      "source": [
        "20.**What is the difference between file.read() and file.readline() in Python.**\n",
        "\n",
        "1.file.read() – Reads the entire file content at once.\n",
        "- file.readline() – Reads only one line at a time.\n",
        "2.file.read() Returns – A string containing the full file content.\n",
        "-  file.readline() Returns – A string with a single line (including \\n).\n",
        "3.file.read() is Memory-Intensive – Not efficient for large files.\n",
        "- file.readline() is Memory-Efficient – Ideal for reading large files line by line.\n"
      ],
      "metadata": {
        "id": "x2jxDhYN0ZBj"
      }
    },
    {
      "cell_type": "markdown",
      "source": [
        "21.**What is the logging module in Python used for.**\n",
        "1. Captures and records log messages – Helps in debugging and monitoring.\n",
        "2. Provides different logging levels – (DEBUG, INFO, WARNING, ERROR, CRITICAL).\n",
        "3. Logs messages to different destinations – Console, files, or external systems.\n",
        "4. Supports log formatting – Customizes log message structure.\n",
        "5. Allows log filtering – Controls what messages get recorded.\n"
      ],
      "metadata": {
        "id": "cAq3P1So0Y-b"
      }
    },
    {
      "cell_type": "markdown",
      "source": [
        "22.**What is the os module in Python used for in file handling.**\n",
        "1. File Creation & Deletion – os.remove(\"file.txt\") deletes a file.\n",
        "2. Directory Management – os.mkdir(\"new_folder\"), os.rmdir(\"empty_folder\").\n",
        "3. File Path Handling – os.path.exists(\"file.txt\") checks if a file exists.\n",
        "4. File Renaming & Moving – os.rename(\"old.txt\", \"new.txt\").\n"
      ],
      "metadata": {
        "id": "znD0HHKG0Y7x"
      }
    },
    {
      "cell_type": "markdown",
      "source": [
        "23.**What are the challenges associated with memory management in Python.**\n",
        "1. Garbage Collection Overhead – Automatic garbage collection can sometimes impact performance.\n",
        "2. Memory Leaks – Objects with circular references may not be freed immediately.\n",
        "3. High Memory Consumption – Dynamic typing and object overhead increase memory usage.\n",
        "4. Fragmentation – Frequent allocations and deallocations can cause memory fragmentation.\n"
      ],
      "metadata": {
        "id": "qv3vRqNZ2Ttc"
      }
    },
    {
      "cell_type": "markdown",
      "source": [
        "24.**How do you raise an exception manually in Python.**\n",
        "- 1. Raise a built-in exception:\n",
        "- 2. Raise an exception inside a try block:\n",
        "- 3. Raise a custom exception:-\n",
        "\n"
      ],
      "metadata": {
        "id": "qXY9N8nO2qdK"
      }
    },
    {
      "cell_type": "markdown",
      "source": [
        "25.**Why is it important to use multithreading in certain applications?**\n",
        "1. Improves Performance – Enables multiple tasks to run concurrently, reducing execution time.\n",
        "2. Efficient Resource Utilization – Maximizes CPU usage by running multiple threads in parallel.\n",
        "3. Better Responsiveness – Keeps applications responsive, especially in GUI-based programs.\n",
        "4. Ideal for I/O-Bound Tasks – Speeds up tasks like file reading, network requests, and database operations."
      ],
      "metadata": {
        "id": "4vphhpmQ2p6S"
      }
    },
    {
      "cell_type": "markdown",
      "source": [
        "# PRACTICAL QUESTION"
      ],
      "metadata": {
        "id": "b21RftFPqnV3"
      }
    },
    {
      "cell_type": "markdown",
      "source": [
        "1.**How can you open a file for writing in Python and write a string to it?**\n"
      ],
      "metadata": {
        "id": "xXj7vtdtqnH_"
      }
    },
    {
      "cell_type": "code",
      "source": [
        "with open(\"example.txt\", \"w\") as file:\n",
        "    file.write(\"Hello, this is a test message!\")\n"
      ],
      "metadata": {
        "id": "4_MRewmx3xm3"
      },
      "execution_count": null,
      "outputs": []
    },
    {
      "cell_type": "markdown",
      "source": [
        "2.**Write a Python program to read the contents of a file and print each line.**\n"
      ],
      "metadata": {
        "id": "2dackxpaqnGH"
      }
    },
    {
      "cell_type": "code",
      "source": [
        "# Open and read the file line by line\n",
        "with open(\"example.txt\", \"r\") as file:\n",
        "    for line in file:\n",
        "        print(line.strip())  # strip() removes extra newlines\n"
      ],
      "metadata": {
        "colab": {
          "base_uri": "https://localhost:8080/"
        },
        "id": "VEhEBOdu3-B1",
        "outputId": "61e9cdc3-c3fc-4f1f-ea18-d6e4373cbc5e"
      },
      "execution_count": null,
      "outputs": [
        {
          "output_type": "stream",
          "name": "stdout",
          "text": [
            "Hello, this is a test message!\n"
          ]
        }
      ]
    },
    {
      "cell_type": "markdown",
      "source": [
        "3.**How would you handle a case where the file doesn't exist while trying to open it for reading.**\n"
      ],
      "metadata": {
        "id": "M2K3L8hTqnDO"
      }
    },
    {
      "cell_type": "code",
      "source": [
        "try:\n",
        "    with open(\"example.txt\", \"r\") as file:\n",
        "        print(file.read())\n",
        "except FileNotFoundError:\n",
        "    print(\"Error: The file does not exist!\")\n"
      ],
      "metadata": {
        "colab": {
          "base_uri": "https://localhost:8080/"
        },
        "id": "eSlpcQq14Ia1",
        "outputId": "7d1d55e6-6a94-4757-c4b2-55b016e87911"
      },
      "execution_count": null,
      "outputs": [
        {
          "output_type": "stream",
          "name": "stdout",
          "text": [
            "Hello, this is a test message!\n"
          ]
        }
      ]
    },
    {
      "cell_type": "markdown",
      "source": [
        "4.**Write a Python script that reads from one file and writes its content to another file.**\n"
      ],
      "metadata": {
        "id": "egBJ-hQ6qnAe"
      }
    },
    {
      "cell_type": "code",
      "source": [
        "# Define source and destination file names\n",
        "source_file = \"source.txt\"\n",
        "destination_file = \"destination.txt\"\n",
        "\n",
        "try:\n",
        "    # Open the source file for reading and destination file for writing\n",
        "    with open(source_file, \"r\") as src, open(destination_file, \"w\") as dest:\n",
        "        content = src.read()  # Read content from the source file\n",
        "        dest.write(content)   # Write content to the destination file\n",
        "    print(\"File copied successfully!\")\n",
        "except FileNotFoundError:\n",
        "    print(\"Error: Source file not found!\")\n",
        "except Exception as e:\n",
        "    print(f\"An unexpected error occurred: {e}\")\n"
      ],
      "metadata": {
        "colab": {
          "base_uri": "https://localhost:8080/"
        },
        "id": "F118R5N3JLzI",
        "outputId": "b2b6f395-cd6d-4270-d807-a32a8acfe432"
      },
      "execution_count": null,
      "outputs": [
        {
          "output_type": "stream",
          "name": "stdout",
          "text": [
            "Error: Source file not found!\n"
          ]
        }
      ]
    },
    {
      "cell_type": "markdown",
      "source": [
        "5.**How would you catch and handle division by zero error in Python.**\n"
      ],
      "metadata": {
        "id": "F0uLnOlZ46dS"
      }
    },
    {
      "cell_type": "code",
      "source": [
        "try:\n",
        "    result = 10 / 0  # This will cause an error\n",
        "except ZeroDivisionError:\n",
        "    print(\"Error: Cannot divide by zero!\")\n",
        "\n"
      ],
      "metadata": {
        "colab": {
          "base_uri": "https://localhost:8080/"
        },
        "id": "ZVYoMxrH41cv",
        "outputId": "6ba34846-7544-4d79-e319-75fe3c09d5cc"
      },
      "execution_count": null,
      "outputs": [
        {
          "output_type": "stream",
          "name": "stdout",
          "text": [
            "Error: Cannot divide by zero!\n"
          ]
        }
      ]
    },
    {
      "cell_type": "markdown",
      "source": [
        "6.**Write a Python program that logs an error message to a log file when a division by zero exception occurs.**\n"
      ],
      "metadata": {
        "id": "aHNslipn5L0S"
      }
    },
    {
      "cell_type": "code",
      "source": [
        "import logging\n",
        "\n",
        "# Configure logging to write errors to a file\n",
        "logging.basicConfig(filename=\"error.log\", level=logging.ERROR,\n",
        "                    format=\"%(asctime)s - %(levelname)s - %(message)s\")\n",
        "\n",
        "try:\n",
        "    # Attempt to divide by zero\n",
        "    result = 10 / 0\n",
        "except ZeroDivisionError:\n",
        "    logging.error(\"Division by zero error occurred!\")\n",
        "    print(\"Error: Cannot divide by zero. Check 'error.log' for details.\")\n"
      ],
      "metadata": {
        "id": "HFm0-gH25Kce",
        "colab": {
          "base_uri": "https://localhost:8080/"
        },
        "outputId": "752103eb-e69b-4bd2-d647-e681bc6e1520"
      },
      "execution_count": null,
      "outputs": [
        {
          "output_type": "stream",
          "name": "stderr",
          "text": [
            "ERROR:root:Division by zero error occurred!\n"
          ]
        },
        {
          "output_type": "stream",
          "name": "stdout",
          "text": [
            "Error: Cannot divide by zero. Check 'error.log' for details.\n"
          ]
        }
      ]
    },
    {
      "cell_type": "markdown",
      "source": [
        "7.**How do you log information at different levels (INFO, ERROR, WARNING) in Python using the logging module.**\n"
      ],
      "metadata": {
        "id": "Xabn8yoqEKrB"
      }
    },
    {
      "cell_type": "code",
      "source": [
        "import logging\n",
        "\n",
        "# Configure logging to log messages to a file\n",
        "logging.basicConfig(filename=\"app.log\", level=logging.DEBUG,\n",
        "                    format=\"%(asctime)s - %(levelname)s - %(message)s\")\n",
        "\n",
        "# Logging messages at different levels\n",
        "logging.debug(\"Debugging message - useful for troubleshooting.\")\n",
        "logging.info(\"Info message - general program status update.\")\n",
        "logging.warning(\"Warning message - something unexpected happened.\")\n",
        "logging.error(\"Error message - a serious issue occurred.\")\n",
        "logging.critical(\"Critical message - system failure!\")\n",
        "\n",
        "print(\"Logs have been recorded in 'app.log'.\")\n"
      ],
      "metadata": {
        "colab": {
          "base_uri": "https://localhost:8080/"
        },
        "id": "W2XvjUD-EJTb",
        "outputId": "69b89ec9-aa45-4d5e-d477-9d901e9da7d3"
      },
      "execution_count": null,
      "outputs": [
        {
          "output_type": "stream",
          "name": "stderr",
          "text": [
            "WARNING:root:Warning message - something unexpected happened.\n",
            "ERROR:root:Error message - a serious issue occurred.\n",
            "CRITICAL:root:Critical message - system failure!\n"
          ]
        },
        {
          "output_type": "stream",
          "name": "stdout",
          "text": [
            "Logs have been recorded in 'app.log'.\n"
          ]
        }
      ]
    },
    {
      "cell_type": "markdown",
      "source": [
        "8.**Write a program to handle a file opening error using exception handling.**\n"
      ],
      "metadata": {
        "id": "DS84Pp8iEcz3"
      }
    },
    {
      "cell_type": "code",
      "source": [
        "try:\n",
        "    # Attempt to open a non-existent file\n",
        "    with open(\"non_existent_file.txt\", \"r\") as file:\n",
        "        content = file.read()\n",
        "        print(content)\n",
        "except FileNotFoundError:\n",
        "    print(\"Error: The file does not exist!\")\n",
        "except PermissionError:\n",
        "    print(\"Error: You don't have permission to access this file.\")\n",
        "except Exception as e:\n",
        "    print(f\"An unexpected error occurred: {e}\")\n",
        "\n",
        "\n"
      ],
      "metadata": {
        "colab": {
          "base_uri": "https://localhost:8080/"
        },
        "id": "M-03arswEbpT",
        "outputId": "570fedf8-a861-4270-de4e-39734ed307ea"
      },
      "execution_count": null,
      "outputs": [
        {
          "output_type": "stream",
          "name": "stdout",
          "text": [
            "Error: The file does not exist!\n"
          ]
        }
      ]
    },
    {
      "cell_type": "markdown",
      "source": [
        "9.**How can you read a file line by line and store its content in a list in Python.**\n"
      ],
      "metadata": {
        "id": "sqX-O9g5FF3V"
      }
    },
    {
      "cell_type": "code",
      "source": [
        "with open(\"example.txt\", \"r\") as file:\n",
        "    lines = file.readlines()  # Each line becomes an item in the list\n",
        "\n",
        "print(lines)\n"
      ],
      "metadata": {
        "colab": {
          "base_uri": "https://localhost:8080/"
        },
        "id": "b92m0WOIFE5u",
        "outputId": "d01eda46-aecd-41c6-dbf1-12ec18347e65"
      },
      "execution_count": null,
      "outputs": [
        {
          "output_type": "stream",
          "name": "stdout",
          "text": [
            "['Hello, this is a test message!']\n"
          ]
        }
      ]
    },
    {
      "cell_type": "markdown",
      "source": [
        "10.**How can you append data to an existing file in Python.**"
      ],
      "metadata": {
        "id": "ibk9p8kJFsxD"
      }
    },
    {
      "cell_type": "code",
      "source": [
        "with open(\"example.txt\", \"a\") as file:\n",
        "    file.write(\"\\nThis is a new line added to the file.\")\n"
      ],
      "metadata": {
        "id": "FKeK8RErFpjL"
      },
      "execution_count": null,
      "outputs": []
    },
    {
      "cell_type": "markdown",
      "source": [
        "11.**Write a Python program that uses a try-except block to handle an error when attempting to access a dictionary key that doesn't exist.**"
      ],
      "metadata": {
        "id": "gjISmW5OF8rK"
      }
    },
    {
      "cell_type": "code",
      "source": [
        "# Sample dictionary\n",
        "data = {\"name\": \"Alice\", \"age\": 25}\n",
        "\n",
        "try:\n",
        "    # Attempt to access a key that doesn't exist\n",
        "    value = data[\"city\"]\n",
        "    print(\"City:\", value)\n",
        "except KeyError:\n",
        "    print(\"Error: The key 'city' does not exist in the dictionary!\")\n"
      ],
      "metadata": {
        "colab": {
          "base_uri": "https://localhost:8080/"
        },
        "id": "ZXH24U86F1ji",
        "outputId": "d402c902-8228-4c7f-bc7f-635cf81122e2"
      },
      "execution_count": null,
      "outputs": [
        {
          "output_type": "stream",
          "name": "stdout",
          "text": [
            "Error: The key 'city' does not exist in the dictionary!\n"
          ]
        }
      ]
    },
    {
      "cell_type": "markdown",
      "source": [
        "12.**Write a program that demonstrates using multiple except blocks to handle different types of exceptions.**\n"
      ],
      "metadata": {
        "id": "8o9N3wbeG9EH"
      }
    },
    {
      "cell_type": "code",
      "source": [
        "try:\n",
        "    # User input for division\n",
        "    num1 = int(input(\"Enter numerator: \"))\n",
        "    num2 = int(input(\"Enter denominator: \"))\n",
        "    result = num1 / num2  # May raise ZeroDivisionError\n",
        "    print(\"Result:\", result)\n",
        "\n",
        "    # Accessing a non-existent dictionary key\n",
        "    data = {\"name\": \"Alice\", \"age\": 25}\n",
        "    print(\"City:\", data[\"city\"])  # May raise KeyError\n",
        "\n",
        "except ZeroDivisionError:\n",
        "    print(\"Error: Cannot divide by zero!\")\n",
        "except ValueError:\n",
        "    print(\"Error: Invalid input! Please enter a number.\")\n",
        "except KeyError:\n",
        "    print(\"Error: The key does not exist in the dictionary.\")\n",
        "except Exception as e:\n",
        "    print(f\"An unexpected error occurred: {e}\")\n"
      ],
      "metadata": {
        "colab": {
          "base_uri": "https://localhost:8080/"
        },
        "id": "qGgcqKd2G8PF",
        "outputId": "f5f69b5a-98bc-4e6a-873d-42febe3fbea3"
      },
      "execution_count": null,
      "outputs": [
        {
          "output_type": "stream",
          "name": "stdout",
          "text": [
            "Enter numerator: 23\n",
            "Enter denominator: 40\n",
            "Result: 0.575\n",
            "Error: The key does not exist in the dictionary.\n"
          ]
        }
      ]
    },
    {
      "cell_type": "markdown",
      "source": [
        "13.**How would you check if a file exists before attempting to read it in Python.**"
      ],
      "metadata": {
        "id": "k9A6C-8ZH8J8"
      }
    },
    {
      "cell_type": "code",
      "source": [
        "import os\n",
        "\n",
        "filename = \"example.txt\"\n",
        "\n",
        "if os.path.exists(filename):\n",
        "    with open(filename, \"r\") as file:\n",
        "        content = file.read()\n",
        "        print(content)\n",
        "else:\n",
        "    print(\"Error: The file does not exist!\")\n"
      ],
      "metadata": {
        "colab": {
          "base_uri": "https://localhost:8080/"
        },
        "id": "gAgJ2lqiHy1m",
        "outputId": "11eab8d8-7cad-493c-ad2d-0c0a971efcdd"
      },
      "execution_count": null,
      "outputs": [
        {
          "output_type": "stream",
          "name": "stdout",
          "text": [
            "Hello, this is a test message!\n",
            "This is a new line added to the file.\n",
            "This is a new line added to the file.\n"
          ]
        }
      ]
    },
    {
      "cell_type": "markdown",
      "source": [
        "14.**Write a program that uses the logging module to log both informational and error messages.**\n"
      ],
      "metadata": {
        "id": "qq2AUGADIsIC"
      }
    },
    {
      "cell_type": "code",
      "source": [
        "import logging\n",
        "\n",
        "# Configure logging to write to a file\n",
        "logging.basicConfig(filename=\"app.log\", level=logging.DEBUG,\n",
        "                    format=\"%(asctime)s - %(levelname)s - %(message)s\")\n",
        "\n",
        "# Logging different messages\n",
        "logging.info(\"This is an informational message.\")\n",
        "logging.warning(\"This is a warning message.\")\n",
        "logging.error(\"This is an error message.\")\n",
        "logging.critical(\"This is a critical error message.\")\n",
        "\n",
        "# Example with exception handling\n",
        "try:\n",
        "    result = 10 / 0  # This will cause ZeroDivisionError\n",
        "except ZeroDivisionError:\n",
        "    logging.error(\"Error: Division by zero occurred!\")\n",
        "\n",
        "print(\"Logs have been recorded in 'app.log'.\")\n"
      ],
      "metadata": {
        "colab": {
          "base_uri": "https://localhost:8080/"
        },
        "id": "sTeWXxdmIzOq",
        "outputId": "5bf5611e-d9a8-4bf3-f673-74cbe26cdc88"
      },
      "execution_count": null,
      "outputs": [
        {
          "output_type": "stream",
          "name": "stderr",
          "text": [
            "WARNING:root:This is a warning message.\n",
            "ERROR:root:This is an error message.\n",
            "CRITICAL:root:This is a critical error message.\n",
            "ERROR:root:Error: Division by zero occurred!\n"
          ]
        },
        {
          "output_type": "stream",
          "name": "stdout",
          "text": [
            "Logs have been recorded in 'app.log'.\n"
          ]
        }
      ]
    },
    {
      "cell_type": "markdown",
      "source": [
        "15.**Write a Python program that prints the content of a file and handles the case when the file is empty.**\n"
      ],
      "metadata": {
        "id": "fyU09NOrJSM_"
      }
    },
    {
      "cell_type": "code",
      "source": [
        "import os\n",
        "\n",
        "# File name\n",
        "filename = \"example.txt\"\n",
        "\n",
        "try:\n",
        "    # Check if file exists\n",
        "    if not os.path.exists(filename):\n",
        "        print(\"Error: The file does not exist!\")\n",
        "    else:\n",
        "        # Open and read the file\n",
        "        with open(filename, \"r\") as file:\n",
        "            content = file.read()\n",
        "\n",
        "            # Check if the file is empty\n",
        "            if not content:\n",
        "                print(\"The file is empty.\")\n",
        "            else:\n",
        "                print(\"File Content:\\n\", content)\n",
        "except Exception as e:\n",
        "    print(f\"An error occurred: {e}\")\n"
      ],
      "metadata": {
        "colab": {
          "base_uri": "https://localhost:8080/"
        },
        "id": "0KVI9261I16_",
        "outputId": "485dfef5-221f-4142-b994-2e9d5957d144"
      },
      "execution_count": null,
      "outputs": [
        {
          "output_type": "stream",
          "name": "stdout",
          "text": [
            "File Content:\n",
            " Hello, this is a test message!\n",
            "This is a new line added to the file.\n",
            "This is a new line added to the file.\n"
          ]
        }
      ]
    },
    {
      "cell_type": "markdown",
      "source": [
        "16.**Demonstrate how to use memory profiling to check the memory usage of a small program.**\n"
      ],
      "metadata": {
        "id": "qYMxIWHpJfff"
      }
    },
    {
      "cell_type": "code",
      "source": [
        "pip install memory_profiler\n"
      ],
      "metadata": {
        "colab": {
          "base_uri": "https://localhost:8080/"
        },
        "id": "fU3F2L7eLCPR",
        "outputId": "e882015e-d8e1-4861-a430-bdc25287083c"
      },
      "execution_count": null,
      "outputs": [
        {
          "output_type": "stream",
          "name": "stdout",
          "text": [
            "Requirement already satisfied: memory_profiler in /usr/local/lib/python3.11/dist-packages (0.61.0)\n",
            "Requirement already satisfied: psutil in /usr/local/lib/python3.11/dist-packages (from memory_profiler) (5.9.5)\n"
          ]
        }
      ]
    },
    {
      "cell_type": "code",
      "source": [
        "from memory_profiler import memory_usage\n",
        "\n",
        "def simple_function():\n",
        "    data = [x for x in range(100000)]  # Creates a large list\n",
        "    return sum(data)\n",
        "\n",
        "# Measure memory usage\n",
        "mem_usage = memory_usage(simple_function)\n",
        "print(f\"Memory used: {max(mem_usage)} MB\")\n"
      ],
      "metadata": {
        "colab": {
          "base_uri": "https://localhost:8080/"
        },
        "id": "VA14_2IqLMpf",
        "outputId": "ccd6ea48-127a-42b9-b6b9-35cd0bcc662a"
      },
      "execution_count": null,
      "outputs": [
        {
          "output_type": "stream",
          "name": "stdout",
          "text": [
            "Memory used: 121.125 MB\n"
          ]
        }
      ]
    },
    {
      "cell_type": "markdown",
      "source": [
        "17.**Write a Python program to create and write a list of numbers to a file, one number per line.**\n"
      ],
      "metadata": {
        "id": "lKFVK_SoLSD4"
      }
    },
    {
      "cell_type": "code",
      "source": [
        "# Define a list of numbers\n",
        "numbers = [1, 2, 3, 4, 5, 6, 7, 8, 9, 10]\n",
        "\n",
        "# File name\n",
        "filename = \"numbers.txt\"\n",
        "\n",
        "# Open the file in write mode and write numbers\n",
        "with open(filename, \"w\") as file:\n",
        "    for number in numbers:\n",
        "        file.write(f\"{number}\\n\")  # Write each number on a new line\n",
        "\n",
        "print(f\"Numbers have been written to {filename}\")\n"
      ],
      "metadata": {
        "colab": {
          "base_uri": "https://localhost:8080/"
        },
        "id": "P_Pb1YVzLPkF",
        "outputId": "72b94c8c-09dd-4ab6-c98b-d14cc6ea1bae"
      },
      "execution_count": null,
      "outputs": [
        {
          "output_type": "stream",
          "name": "stdout",
          "text": [
            "Numbers have been written to numbers.txt\n"
          ]
        }
      ]
    },
    {
      "cell_type": "markdown",
      "source": [
        "18.**How would you implement a basic logging setup that logs to a file with rotation after 1MB.**\n"
      ],
      "metadata": {
        "id": "93-U2EOjLpsJ"
      }
    },
    {
      "cell_type": "code",
      "source": [
        "import logging\n",
        "from logging.handlers import RotatingFileHandler\n",
        "\n",
        "# Configure rotating logs\n",
        "log_file = \"app.log\"\n",
        "log_handler = RotatingFileHandler(log_file, maxBytes=1_000_000, backupCount=3)  # 1MB per file, keep 3 backups\n",
        "\n",
        "logging.basicConfig(\n",
        "    level=logging.DEBUG,\n",
        "    format=\"%(asctime)s - %(levelname)s - %(message)s\",\n",
        "    handlers=[log_handler]\n",
        ")\n",
        "\n",
        "# Example logs\n",
        "logging.info(\"This is an info message.\")\n",
        "logging.warning(\"This is a warning message.\")\n",
        "logging.error(\"This is an error message.\")\n"
      ],
      "metadata": {
        "colab": {
          "base_uri": "https://localhost:8080/"
        },
        "id": "-wKj57ksLxK6",
        "outputId": "20655c7b-793a-4103-efba-380140fca660"
      },
      "execution_count": null,
      "outputs": [
        {
          "output_type": "stream",
          "name": "stderr",
          "text": [
            "WARNING:root:This is a warning message.\n",
            "ERROR:root:This is an error message.\n"
          ]
        }
      ]
    },
    {
      "cell_type": "markdown",
      "source": [
        "19.**Write a program that handles both IndexError and KeyError using a try-except block.**\n"
      ],
      "metadata": {
        "id": "aPkyF7n7L4SO"
      }
    },
    {
      "cell_type": "code",
      "source": [
        "try:\n",
        "    # List and Dictionary for testing\n",
        "    my_list = [10, 20, 30]\n",
        "    my_dict = {\"name\": \"Alice\", \"age\": 25}\n",
        "\n",
        "    # Attempt to access an invalid index\n",
        "    print(\"List Element:\", my_list[5])  # IndexError\n",
        "\n",
        "    # Attempt to access a non-existent dictionary key\n",
        "    print(\"City:\", my_dict[\"city\"])  # KeyError\n",
        "\n",
        "except IndexError:\n",
        "    print(\"Error: List index out of range!\")\n",
        "except KeyError:\n",
        "    print(\"Error: Key not found in dictionary!\")\n",
        "except Exception as e:\n",
        "    print(f\"An unexpected error occurred: {e}\")\n"
      ],
      "metadata": {
        "colab": {
          "base_uri": "https://localhost:8080/"
        },
        "id": "iPCGMAuVL63C",
        "outputId": "64b449c0-a34c-4d0f-e0ae-cd81d1d57d88"
      },
      "execution_count": null,
      "outputs": [
        {
          "output_type": "stream",
          "name": "stdout",
          "text": [
            "Error: List index out of range!\n"
          ]
        }
      ]
    },
    {
      "cell_type": "markdown",
      "source": [
        "20.**How would you open a file and read its contents using a context manager in Python.**\n"
      ],
      "metadata": {
        "id": "1_1QW2TsMMIV"
      }
    },
    {
      "cell_type": "code",
      "source": [
        "# Define the file name\n",
        "filename = \"example.txt\"\n",
        "\n",
        "# Open the file using a context manager and read its contents\n",
        "try:\n",
        "    with open(filename, \"r\") as file:\n",
        "        content = file.read()\n",
        "        print(\"File Content:\\n\", content)\n",
        "except FileNotFoundError:\n",
        "    print(\"Error: The file does not exist!\")\n",
        "except Exception as e:\n",
        "    print(f\"An error occurred: {e}\")\n"
      ],
      "metadata": {
        "colab": {
          "base_uri": "https://localhost:8080/"
        },
        "id": "KhgdgTH3MJk4",
        "outputId": "8b665274-c799-4a49-de53-6e1660e919e8"
      },
      "execution_count": null,
      "outputs": [
        {
          "output_type": "stream",
          "name": "stdout",
          "text": [
            "File Content:\n",
            " Hello, this is a test message!\n",
            "This is a new line added to the file.\n",
            "This is a new line added to the file.\n"
          ]
        }
      ]
    },
    {
      "cell_type": "markdown",
      "source": [
        "21.**Write a Python program that reads a file and prints the number of occurrences of a specific word.**\n"
      ],
      "metadata": {
        "id": "R4sKDYI3Mr2U"
      }
    },
    {
      "cell_type": "code",
      "source": [
        "# Define the file name and the word to search for\n",
        "filename = \"example.txt\"\n",
        "search_word = \"Python\"\n",
        "\n",
        "try:\n",
        "    # Open the file and read its contents\n",
        "    with open(filename, \"r\") as file:\n",
        "        content = file.read()\n",
        "\n",
        "    # Count occurrences of the word (case insensitive)\n",
        "    word_count = content.lower().split().count(search_word.lower())\n",
        "\n",
        "    print(f\"The word '{search_word}' appears {word_count} times in '{filename}'.\")\n",
        "except FileNotFoundError:\n",
        "    print(\"Error: The file does not exist!\")\n",
        "except Exception as e:\n",
        "    print(f\"An error occurred: {e}\")\n"
      ],
      "metadata": {
        "colab": {
          "base_uri": "https://localhost:8080/"
        },
        "id": "zdAEPGpOMpsL",
        "outputId": "35f23d0d-333b-4c28-a6bc-27da5a5322d3"
      },
      "execution_count": null,
      "outputs": [
        {
          "output_type": "stream",
          "name": "stdout",
          "text": [
            "The word 'Python' appears 0 times in 'example.txt'.\n"
          ]
        }
      ]
    },
    {
      "cell_type": "markdown",
      "source": [
        "22.**How can you check if a file is empty before attempting to read its content.**\n"
      ],
      "metadata": {
        "id": "i6w2RkNvNDo6"
      }
    },
    {
      "cell_type": "code",
      "source": [
        "import os\n",
        "\n",
        "# Define the file name\n",
        "filename = \"example.txt\"\n",
        "\n",
        "# Check if the file exists and is not empty\n",
        "if os.path.exists(filename) and os.path.getsize(filename) > 0:\n",
        "    with open(filename, \"r\") as file:\n",
        "        content = file.read()\n",
        "        print(\"File Content:\\n\", content)\n",
        "else:\n",
        "    print(\"Error: The file is either missing or empty!\")\n"
      ],
      "metadata": {
        "colab": {
          "base_uri": "https://localhost:8080/"
        },
        "id": "012cYzAJM6pz",
        "outputId": "81649589-8b5e-4e62-bb67-2c6cb2d9ba16"
      },
      "execution_count": null,
      "outputs": [
        {
          "output_type": "stream",
          "name": "stdout",
          "text": [
            "File Content:\n",
            " Hello, this is a test message!\n",
            "This is a new line added to the file.\n",
            "This is a new line added to the file.\n"
          ]
        }
      ]
    },
    {
      "cell_type": "markdown",
      "source": [
        "23.**Write a Python program that writes to a log file when an error occurs during file handling.**\n"
      ],
      "metadata": {
        "id": "2VVsONGFNneU"
      }
    },
    {
      "cell_type": "code",
      "source": [
        "import logging\n",
        "\n",
        "# Configure logging to write to a file\n",
        "logging.basicConfig(\n",
        "    filename=\"file_errors.log\",\n",
        "    level=logging.ERROR,\n",
        "    format=\"%(asctime)s - %(levelname)s - %(message)s\"\n",
        ")\n",
        "\n",
        "# Define the file name\n",
        "filename = \"example.txt\"\n",
        "\n",
        "try:\n",
        "    with open(filename, \"r\") as file:\n",
        "        content = file.read()\n",
        "        print(\"File Content:\\n\", content)\n",
        "except FileNotFoundError:\n",
        "    logging.error(f\"Error: The file '{filename}' was not found.\")\n",
        "    print(\"Error: The file does not exist!\")\n",
        "except Exception as e:\n",
        "    logging.error(f\"An unexpected error occurred: {e}\")\n",
        "    print(\"An unexpected error occurred. Check the log file for details.\")\n"
      ],
      "metadata": {
        "colab": {
          "base_uri": "https://localhost:8080/"
        },
        "id": "mlXX9ruWNmsc",
        "outputId": "7ed96469-2efb-433a-ab05-3a852b9135f7"
      },
      "execution_count": null,
      "outputs": [
        {
          "output_type": "stream",
          "name": "stdout",
          "text": [
            "File Content:\n",
            " Hello, this is a test message!\n",
            "This is a new line added to the file.\n",
            "This is a new line added to the file.\n"
          ]
        }
      ]
    },
    {
      "cell_type": "code",
      "source": [],
      "metadata": {
        "id": "xC7UTqiiNvqP"
      },
      "execution_count": null,
      "outputs": []
    }
  ]
}